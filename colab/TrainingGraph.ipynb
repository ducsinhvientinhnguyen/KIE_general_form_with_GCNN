{
  "nbformat": 4,
  "nbformat_minor": 0,
  "metadata": {
    "colab": {
      "name": "TrainingGraph",
      "provenance": []
    },
    "kernelspec": {
      "name": "python3",
      "display_name": "Python 3"
    },
    "language_info": {
      "name": "python"
    },
    "accelerator": "GPU",
    "gpuClass": "standard"
  },
  "cells": [
    {
      "cell_type": "code",
      "execution_count": null,
      "metadata": {
        "colab": {
          "base_uri": "https://localhost:8080/"
        },
        "id": "vgtbF7cgfM_b",
        "outputId": "3fdc7ad7-bc55-4b7a-d003-f40d330fea95"
      },
      "outputs": [
        {
          "output_type": "stream",
          "name": "stdout",
          "text": [
            "Drive already mounted at /content/drive; to attempt to forcibly remount, call drive.mount(\"/content/drive\", force_remount=True).\n"
          ]
        }
      ],
      "source": [
        "from google.colab import drive\n",
        "drive.mount('/content/drive')"
      ]
    },
    {
      "cell_type": "code",
      "source": [
        "import torch \n",
        "import torch.nn as nn\n",
        "import torch.nn.functional as F\n",
        "import torch.optim"
      ],
      "metadata": {
        "id": "qeJV4Is3fZ2H"
      },
      "execution_count": null,
      "outputs": []
    },
    {
      "cell_type": "code",
      "source": [
        "!git clone https://github.com/huyhoang17/KIE_invoice_minimal.git"
      ],
      "metadata": {
        "colab": {
          "base_uri": "https://localhost:8080/"
        },
        "id": "PbvJ9ESrgMwU",
        "outputId": "139d1e92-381c-411c-ebfd-9a717ed3a749"
      },
      "execution_count": null,
      "outputs": [
        {
          "output_type": "stream",
          "name": "stdout",
          "text": [
            "Cloning into 'KIE_invoice_minimal'...\n",
            "remote: Enumerating objects: 114, done.\u001b[K\n",
            "remote: Counting objects: 100% (3/3), done.\u001b[K\n",
            "remote: Compressing objects: 100% (3/3), done.\u001b[K\n",
            "remote: Total 114 (delta 0), reused 1 (delta 0), pack-reused 111\u001b[K\n",
            "Receiving objects: 100% (114/114), 11.33 MiB | 32.06 MiB/s, done.\n",
            "Resolving deltas: 100% (25/25), done.\n"
          ]
        }
      ]
    },
    {
      "cell_type": "code",
      "source": [
        "import copy\n",
        "import imageio\n",
        "\n",
        "import cv2\n",
        "import numpy as np\n",
        "import torch\n"
      ],
      "metadata": {
        "id": "71_1zKYvjuyB"
      },
      "execution_count": null,
      "outputs": []
    },
    {
      "cell_type": "code",
      "source": [
        "!pip install -r /content/KIE_invoice_minimal/requirements.txt"
      ],
      "metadata": {
        "colab": {
          "base_uri": "https://localhost:8080/"
        },
        "id": "Atq9_kDygNG7",
        "outputId": "efe588ef-a970-4570-9873-155ded090d21"
      },
      "execution_count": null,
      "outputs": [
        {
          "output_type": "stream",
          "name": "stdout",
          "text": [
            "Looking in indexes: https://pypi.org/simple, https://us-python.pkg.dev/colab-wheels/public/simple/\n",
            "Requirement already satisfied: altair==4.1.0 in /usr/local/lib/python3.7/dist-packages (from -r /content/KIE_invoice_minimal/requirements.txt (line 1)) (4.1.0)\n",
            "Requirement already satisfied: anyio==3.3.4 in /usr/local/lib/python3.7/dist-packages (from -r /content/KIE_invoice_minimal/requirements.txt (line 2)) (3.3.4)\n",
            "Requirement already satisfied: argon2-cffi==21.1.0 in /usr/local/lib/python3.7/dist-packages (from -r /content/KIE_invoice_minimal/requirements.txt (line 3)) (21.1.0)\n",
            "Requirement already satisfied: asgiref==3.4.1 in /usr/local/lib/python3.7/dist-packages (from -r /content/KIE_invoice_minimal/requirements.txt (line 4)) (3.4.1)\n",
            "Requirement already satisfied: astor==0.8.1 in /usr/local/lib/python3.7/dist-packages (from -r /content/KIE_invoice_minimal/requirements.txt (line 5)) (0.8.1)\n",
            "Requirement already satisfied: attrs==21.2.0 in /usr/local/lib/python3.7/dist-packages (from -r /content/KIE_invoice_minimal/requirements.txt (line 6)) (21.2.0)\n",
            "Requirement already satisfied: backcall==0.2.0 in /usr/local/lib/python3.7/dist-packages (from -r /content/KIE_invoice_minimal/requirements.txt (line 7)) (0.2.0)\n",
            "Requirement already satisfied: backports.zoneinfo==0.2.1 in /usr/local/lib/python3.7/dist-packages (from -r /content/KIE_invoice_minimal/requirements.txt (line 8)) (0.2.1)\n",
            "Requirement already satisfied: base58==2.1.0 in /usr/local/lib/python3.7/dist-packages (from -r /content/KIE_invoice_minimal/requirements.txt (line 9)) (2.1.0)\n",
            "Requirement already satisfied: black==21.9b0 in /usr/local/lib/python3.7/dist-packages (from -r /content/KIE_invoice_minimal/requirements.txt (line 10)) (21.9b0)\n",
            "Requirement already satisfied: bleach==4.1.0 in /usr/local/lib/python3.7/dist-packages (from -r /content/KIE_invoice_minimal/requirements.txt (line 11)) (4.1.0)\n",
            "Requirement already satisfied: blinker==1.4 in /usr/local/lib/python3.7/dist-packages (from -r /content/KIE_invoice_minimal/requirements.txt (line 12)) (1.4)\n",
            "Requirement already satisfied: cachetools==4.2.4 in /usr/local/lib/python3.7/dist-packages (from -r /content/KIE_invoice_minimal/requirements.txt (line 13)) (4.2.4)\n",
            "Requirement already satisfied: certifi==2021.10.8 in /usr/local/lib/python3.7/dist-packages (from -r /content/KIE_invoice_minimal/requirements.txt (line 14)) (2021.10.8)\n",
            "Requirement already satisfied: cffi==1.15.0 in /usr/local/lib/python3.7/dist-packages (from -r /content/KIE_invoice_minimal/requirements.txt (line 15)) (1.15.0)\n",
            "Requirement already satisfied: charset-normalizer==2.0.7 in /usr/local/lib/python3.7/dist-packages (from -r /content/KIE_invoice_minimal/requirements.txt (line 16)) (2.0.7)\n",
            "Requirement already satisfied: click==7.1.2 in /usr/local/lib/python3.7/dist-packages (from -r /content/KIE_invoice_minimal/requirements.txt (line 17)) (7.1.2)\n",
            "Requirement already satisfied: cycler==0.10.0 in /usr/local/lib/python3.7/dist-packages (from -r /content/KIE_invoice_minimal/requirements.txt (line 18)) (0.10.0)\n",
            "Requirement already satisfied: debugpy==1.5.1 in /usr/local/lib/python3.7/dist-packages (from -r /content/KIE_invoice_minimal/requirements.txt (line 19)) (1.5.1)\n",
            "Requirement already satisfied: decorator==5.1.0 in /usr/local/lib/python3.7/dist-packages (from -r /content/KIE_invoice_minimal/requirements.txt (line 20)) (5.1.0)\n",
            "Requirement already satisfied: defusedxml==0.7.1 in /usr/local/lib/python3.7/dist-packages (from -r /content/KIE_invoice_minimal/requirements.txt (line 21)) (0.7.1)\n",
            "Requirement already satisfied: dgl-cu111 in /usr/local/lib/python3.7/dist-packages (from -r /content/KIE_invoice_minimal/requirements.txt (line 22)) (0.6.1)\n",
            "Requirement already satisfied: einops==0.2.0 in /usr/local/lib/python3.7/dist-packages (from -r /content/KIE_invoice_minimal/requirements.txt (line 23)) (0.2.0)\n",
            "Requirement already satisfied: entrypoints==0.3 in /usr/local/lib/python3.7/dist-packages (from -r /content/KIE_invoice_minimal/requirements.txt (line 24)) (0.3)\n",
            "Requirement already satisfied: fastapi==0.70.0 in /usr/local/lib/python3.7/dist-packages (from -r /content/KIE_invoice_minimal/requirements.txt (line 25)) (0.70.0)\n",
            "Requirement already satisfied: filelock==3.3.1 in /usr/local/lib/python3.7/dist-packages (from -r /content/KIE_invoice_minimal/requirements.txt (line 26)) (3.3.1)\n",
            "Requirement already satisfied: gdown==3.11.0 in /usr/local/lib/python3.7/dist-packages (from -r /content/KIE_invoice_minimal/requirements.txt (line 27)) (3.11.0)\n",
            "Requirement already satisfied: gitdb==4.0.8 in /usr/local/lib/python3.7/dist-packages (from -r /content/KIE_invoice_minimal/requirements.txt (line 28)) (4.0.8)\n",
            "Requirement already satisfied: GitPython==3.1.24 in /usr/local/lib/python3.7/dist-packages (from -r /content/KIE_invoice_minimal/requirements.txt (line 29)) (3.1.24)\n",
            "Requirement already satisfied: h11==0.12.0 in /usr/local/lib/python3.7/dist-packages (from -r /content/KIE_invoice_minimal/requirements.txt (line 30)) (0.12.0)\n",
            "Requirement already satisfied: httptools==0.2.0 in /usr/local/lib/python3.7/dist-packages (from -r /content/KIE_invoice_minimal/requirements.txt (line 31)) (0.2.0)\n",
            "Requirement already satisfied: idna==3.3 in /usr/local/lib/python3.7/dist-packages (from -r /content/KIE_invoice_minimal/requirements.txt (line 32)) (3.3)\n",
            "Requirement already satisfied: imageio==2.9.0 in /usr/local/lib/python3.7/dist-packages (from -r /content/KIE_invoice_minimal/requirements.txt (line 33)) (2.9.0)\n",
            "Requirement already satisfied: imgaug==0.4.0 in /usr/local/lib/python3.7/dist-packages (from -r /content/KIE_invoice_minimal/requirements.txt (line 34)) (0.4.0)\n",
            "Requirement already satisfied: ipykernel==6.4.2 in /usr/local/lib/python3.7/dist-packages (from -r /content/KIE_invoice_minimal/requirements.txt (line 35)) (6.4.2)\n",
            "Requirement already satisfied: ipython==7.28.0 in /usr/local/lib/python3.7/dist-packages (from -r /content/KIE_invoice_minimal/requirements.txt (line 36)) (7.28.0)\n",
            "Requirement already satisfied: ipython-genutils==0.2.0 in /usr/local/lib/python3.7/dist-packages (from -r /content/KIE_invoice_minimal/requirements.txt (line 37)) (0.2.0)\n",
            "Requirement already satisfied: ipywidgets==7.6.5 in /usr/local/lib/python3.7/dist-packages (from -r /content/KIE_invoice_minimal/requirements.txt (line 38)) (7.6.5)\n",
            "Requirement already satisfied: jedi==0.18.0 in /usr/local/lib/python3.7/dist-packages (from -r /content/KIE_invoice_minimal/requirements.txt (line 39)) (0.18.0)\n",
            "Requirement already satisfied: Jinja2==3.0.2 in /usr/local/lib/python3.7/dist-packages (from -r /content/KIE_invoice_minimal/requirements.txt (line 40)) (3.0.2)\n",
            "Requirement already satisfied: jsonschema==4.1.2 in /usr/local/lib/python3.7/dist-packages (from -r /content/KIE_invoice_minimal/requirements.txt (line 41)) (4.1.2)\n",
            "Requirement already satisfied: jupyter-client==7.0.6 in /usr/local/lib/python3.7/dist-packages (from -r /content/KIE_invoice_minimal/requirements.txt (line 42)) (7.0.6)\n",
            "Requirement already satisfied: jupyter-core==4.8.1 in /usr/local/lib/python3.7/dist-packages (from -r /content/KIE_invoice_minimal/requirements.txt (line 43)) (4.8.1)\n",
            "Requirement already satisfied: jupyterlab-pygments==0.1.2 in /usr/local/lib/python3.7/dist-packages (from -r /content/KIE_invoice_minimal/requirements.txt (line 44)) (0.1.2)\n",
            "Requirement already satisfied: jupyterlab-widgets==1.0.2 in /usr/local/lib/python3.7/dist-packages (from -r /content/KIE_invoice_minimal/requirements.txt (line 45)) (1.0.2)\n",
            "Requirement already satisfied: kiwisolver==1.3.2 in /usr/local/lib/python3.7/dist-packages (from -r /content/KIE_invoice_minimal/requirements.txt (line 46)) (1.3.2)\n",
            "Requirement already satisfied: lmdb==1.0.0 in /usr/local/lib/python3.7/dist-packages (from -r /content/KIE_invoice_minimal/requirements.txt (line 47)) (1.0.0)\n",
            "Requirement already satisfied: MarkupSafe==2.0.1 in /usr/local/lib/python3.7/dist-packages (from -r /content/KIE_invoice_minimal/requirements.txt (line 48)) (2.0.1)\n",
            "Requirement already satisfied: matplotlib==3.4.3 in /usr/local/lib/python3.7/dist-packages (from -r /content/KIE_invoice_minimal/requirements.txt (line 49)) (3.4.3)\n",
            "Requirement already satisfied: matplotlib-inline==0.1.3 in /usr/local/lib/python3.7/dist-packages (from -r /content/KIE_invoice_minimal/requirements.txt (line 50)) (0.1.3)\n",
            "Requirement already satisfied: mistune==0.8.4 in /usr/local/lib/python3.7/dist-packages (from -r /content/KIE_invoice_minimal/requirements.txt (line 51)) (0.8.4)\n",
            "Requirement already satisfied: mypy-extensions==0.4.3 in /usr/local/lib/python3.7/dist-packages (from -r /content/KIE_invoice_minimal/requirements.txt (line 52)) (0.4.3)\n",
            "Requirement already satisfied: nbclient==0.5.4 in /usr/local/lib/python3.7/dist-packages (from -r /content/KIE_invoice_minimal/requirements.txt (line 53)) (0.5.4)\n",
            "Requirement already satisfied: nbconvert==6.2.0 in /usr/local/lib/python3.7/dist-packages (from -r /content/KIE_invoice_minimal/requirements.txt (line 54)) (6.2.0)\n",
            "Requirement already satisfied: nbformat==5.1.3 in /usr/local/lib/python3.7/dist-packages (from -r /content/KIE_invoice_minimal/requirements.txt (line 55)) (5.1.3)\n",
            "Requirement already satisfied: nest-asyncio==1.5.1 in /usr/local/lib/python3.7/dist-packages (from -r /content/KIE_invoice_minimal/requirements.txt (line 56)) (1.5.1)\n",
            "Requirement already satisfied: networkx==2.6.3 in /usr/local/lib/python3.7/dist-packages (from -r /content/KIE_invoice_minimal/requirements.txt (line 57)) (2.6.3)\n",
            "Requirement already satisfied: notebook==6.4.5 in /usr/local/lib/python3.7/dist-packages (from -r /content/KIE_invoice_minimal/requirements.txt (line 58)) (6.4.5)\n",
            "Requirement already satisfied: numpy==1.21.3 in /usr/local/lib/python3.7/dist-packages (from -r /content/KIE_invoice_minimal/requirements.txt (line 59)) (1.21.3)\n",
            "Requirement already satisfied: opencv-python==4.5.3.56 in /usr/local/lib/python3.7/dist-packages (from -r /content/KIE_invoice_minimal/requirements.txt (line 60)) (4.5.3.56)\n",
            "Requirement already satisfied: packaging==21.0 in /usr/local/lib/python3.7/dist-packages (from -r /content/KIE_invoice_minimal/requirements.txt (line 61)) (21.0)\n",
            "Requirement already satisfied: pandas==1.3.4 in /usr/local/lib/python3.7/dist-packages (from -r /content/KIE_invoice_minimal/requirements.txt (line 62)) (1.3.4)\n",
            "Requirement already satisfied: pandocfilters==1.5.0 in /usr/local/lib/python3.7/dist-packages (from -r /content/KIE_invoice_minimal/requirements.txt (line 63)) (1.5.0)\n",
            "Requirement already satisfied: parso==0.8.2 in /usr/local/lib/python3.7/dist-packages (from -r /content/KIE_invoice_minimal/requirements.txt (line 64)) (0.8.2)\n",
            "Requirement already satisfied: pathspec==0.9.0 in /usr/local/lib/python3.7/dist-packages (from -r /content/KIE_invoice_minimal/requirements.txt (line 65)) (0.9.0)\n",
            "Requirement already satisfied: pexpect==4.8.0 in /usr/local/lib/python3.7/dist-packages (from -r /content/KIE_invoice_minimal/requirements.txt (line 66)) (4.8.0)\n",
            "Requirement already satisfied: pickleshare==0.7.5 in /usr/local/lib/python3.7/dist-packages (from -r /content/KIE_invoice_minimal/requirements.txt (line 67)) (0.7.5)\n",
            "Requirement already satisfied: Pillow==8.4.0 in /usr/local/lib/python3.7/dist-packages (from -r /content/KIE_invoice_minimal/requirements.txt (line 68)) (8.4.0)\n",
            "Requirement already satisfied: platformdirs==2.4.0 in /usr/local/lib/python3.7/dist-packages (from -r /content/KIE_invoice_minimal/requirements.txt (line 69)) (2.4.0)\n",
            "Requirement already satisfied: prefetch-generator==1.0.1 in /usr/local/lib/python3.7/dist-packages (from -r /content/KIE_invoice_minimal/requirements.txt (line 70)) (1.0.1)\n",
            "Requirement already satisfied: prettytable==2.1.0 in /usr/local/lib/python3.7/dist-packages (from -r /content/KIE_invoice_minimal/requirements.txt (line 71)) (2.1.0)\n",
            "Requirement already satisfied: prometheus-client==0.11.0 in /usr/local/lib/python3.7/dist-packages (from -r /content/KIE_invoice_minimal/requirements.txt (line 72)) (0.11.0)\n",
            "Requirement already satisfied: prompt-toolkit==3.0.21 in /usr/local/lib/python3.7/dist-packages (from -r /content/KIE_invoice_minimal/requirements.txt (line 73)) (3.0.21)\n",
            "Requirement already satisfied: protobuf==3.19.0 in /usr/local/lib/python3.7/dist-packages (from -r /content/KIE_invoice_minimal/requirements.txt (line 74)) (3.19.0)\n",
            "Requirement already satisfied: ptyprocess==0.7.0 in /usr/local/lib/python3.7/dist-packages (from -r /content/KIE_invoice_minimal/requirements.txt (line 75)) (0.7.0)\n",
            "Requirement already satisfied: pyarrow==5.0.0 in /usr/local/lib/python3.7/dist-packages (from -r /content/KIE_invoice_minimal/requirements.txt (line 76)) (5.0.0)\n",
            "Requirement already satisfied: pyclipper==1.1.0.post3 in /usr/local/lib/python3.7/dist-packages (from -r /content/KIE_invoice_minimal/requirements.txt (line 77)) (1.1.0.post3)\n",
            "Requirement already satisfied: pycparser==2.20 in /usr/local/lib/python3.7/dist-packages (from -r /content/KIE_invoice_minimal/requirements.txt (line 78)) (2.20)\n",
            "Requirement already satisfied: pydantic==1.8.2 in /usr/local/lib/python3.7/dist-packages (from -r /content/KIE_invoice_minimal/requirements.txt (line 79)) (1.8.2)\n",
            "Requirement already satisfied: pydeck==0.7.0 in /usr/local/lib/python3.7/dist-packages (from -r /content/KIE_invoice_minimal/requirements.txt (line 80)) (0.7.0)\n",
            "Requirement already satisfied: Pygments==2.10.0 in /usr/local/lib/python3.7/dist-packages (from -r /content/KIE_invoice_minimal/requirements.txt (line 81)) (2.10.0)\n",
            "Requirement already satisfied: pyparsing==2.4.7 in /usr/local/lib/python3.7/dist-packages (from -r /content/KIE_invoice_minimal/requirements.txt (line 82)) (2.4.7)\n",
            "Requirement already satisfied: pyrsistent==0.18.0 in /usr/local/lib/python3.7/dist-packages (from -r /content/KIE_invoice_minimal/requirements.txt (line 83)) (0.18.0)\n",
            "Requirement already satisfied: PySocks==1.7.1 in /usr/local/lib/python3.7/dist-packages (from -r /content/KIE_invoice_minimal/requirements.txt (line 84)) (1.7.1)\n",
            "Requirement already satisfied: python-dateutil==2.8.2 in /usr/local/lib/python3.7/dist-packages (from -r /content/KIE_invoice_minimal/requirements.txt (line 85)) (2.8.2)\n",
            "Requirement already satisfied: python-dotenv==0.19.1 in /usr/local/lib/python3.7/dist-packages (from -r /content/KIE_invoice_minimal/requirements.txt (line 86)) (0.19.1)\n",
            "Requirement already satisfied: python-multipart==0.0.5 in /usr/local/lib/python3.7/dist-packages (from -r /content/KIE_invoice_minimal/requirements.txt (line 87)) (0.0.5)\n",
            "Requirement already satisfied: pytz==2021.3 in /usr/local/lib/python3.7/dist-packages (from -r /content/KIE_invoice_minimal/requirements.txt (line 88)) (2021.3)\n",
            "Requirement already satisfied: pytz-deprecation-shim==0.1.0.post0 in /usr/local/lib/python3.7/dist-packages (from -r /content/KIE_invoice_minimal/requirements.txt (line 89)) (0.1.0.post0)\n",
            "Requirement already satisfied: PyWavelets==1.1.1 in /usr/local/lib/python3.7/dist-packages (from -r /content/KIE_invoice_minimal/requirements.txt (line 90)) (1.1.1)\n",
            "Requirement already satisfied: PyYAML==6.0 in /usr/local/lib/python3.7/dist-packages (from -r /content/KIE_invoice_minimal/requirements.txt (line 91)) (6.0)\n",
            "Requirement already satisfied: pyzmq==22.3.0 in /usr/local/lib/python3.7/dist-packages (from -r /content/KIE_invoice_minimal/requirements.txt (line 92)) (22.3.0)\n",
            "Requirement already satisfied: regex==2021.10.23 in /usr/local/lib/python3.7/dist-packages (from -r /content/KIE_invoice_minimal/requirements.txt (line 93)) (2021.10.23)\n",
            "Requirement already satisfied: requests==2.26.0 in /usr/local/lib/python3.7/dist-packages (from -r /content/KIE_invoice_minimal/requirements.txt (line 94)) (2.26.0)\n",
            "Requirement already satisfied: scikit-image==0.18.3 in /usr/local/lib/python3.7/dist-packages (from -r /content/KIE_invoice_minimal/requirements.txt (line 95)) (0.18.3)\n",
            "Requirement already satisfied: scipy==1.7.1 in /usr/local/lib/python3.7/dist-packages (from -r /content/KIE_invoice_minimal/requirements.txt (line 96)) (1.7.1)\n",
            "Requirement already satisfied: Send2Trash==1.8.0 in /usr/local/lib/python3.7/dist-packages (from -r /content/KIE_invoice_minimal/requirements.txt (line 97)) (1.8.0)\n",
            "Requirement already satisfied: Shapely==1.7.1 in /usr/local/lib/python3.7/dist-packages (from -r /content/KIE_invoice_minimal/requirements.txt (line 98)) (1.7.1)\n",
            "Requirement already satisfied: six==1.16.0 in /usr/local/lib/python3.7/dist-packages (from -r /content/KIE_invoice_minimal/requirements.txt (line 99)) (1.16.0)\n",
            "Requirement already satisfied: smmap==5.0.0 in /usr/local/lib/python3.7/dist-packages (from -r /content/KIE_invoice_minimal/requirements.txt (line 100)) (5.0.0)\n",
            "Requirement already satisfied: sniffio==1.2.0 in /usr/local/lib/python3.7/dist-packages (from -r /content/KIE_invoice_minimal/requirements.txt (line 101)) (1.2.0)\n",
            "Requirement already satisfied: starlette==0.16.0 in /usr/local/lib/python3.7/dist-packages (from -r /content/KIE_invoice_minimal/requirements.txt (line 102)) (0.16.0)\n",
            "Requirement already satisfied: streamlit==1.1.0 in /usr/local/lib/python3.7/dist-packages (from -r /content/KIE_invoice_minimal/requirements.txt (line 103)) (1.1.0)\n",
            "Requirement already satisfied: terminado==0.12.1 in /usr/local/lib/python3.7/dist-packages (from -r /content/KIE_invoice_minimal/requirements.txt (line 104)) (0.12.1)\n",
            "Requirement already satisfied: testpath==0.5.0 in /usr/local/lib/python3.7/dist-packages (from -r /content/KIE_invoice_minimal/requirements.txt (line 105)) (0.5.0)\n",
            "Requirement already satisfied: tifffile==2021.10.12 in /usr/local/lib/python3.7/dist-packages (from -r /content/KIE_invoice_minimal/requirements.txt (line 106)) (2021.10.12)\n",
            "Requirement already satisfied: toml==0.10.2 in /usr/local/lib/python3.7/dist-packages (from -r /content/KIE_invoice_minimal/requirements.txt (line 107)) (0.10.2)\n",
            "Requirement already satisfied: tomli==1.2.1 in /usr/local/lib/python3.7/dist-packages (from -r /content/KIE_invoice_minimal/requirements.txt (line 108)) (1.2.1)\n",
            "Requirement already satisfied: toolz==0.11.1 in /usr/local/lib/python3.7/dist-packages (from -r /content/KIE_invoice_minimal/requirements.txt (line 109)) (0.11.1)\n",
            "Requirement already satisfied: torch==1.8.1 in /usr/local/lib/python3.7/dist-packages (from -r /content/KIE_invoice_minimal/requirements.txt (line 110)) (1.8.1)\n",
            "Requirement already satisfied: torchvision==0.9.1 in /usr/local/lib/python3.7/dist-packages (from -r /content/KIE_invoice_minimal/requirements.txt (line 111)) (0.9.1)\n",
            "Requirement already satisfied: tornado==6.1 in /usr/local/lib/python3.7/dist-packages (from -r /content/KIE_invoice_minimal/requirements.txt (line 112)) (6.1)\n",
            "Requirement already satisfied: tqdm==4.62.3 in /usr/local/lib/python3.7/dist-packages (from -r /content/KIE_invoice_minimal/requirements.txt (line 113)) (4.62.3)\n",
            "Requirement already satisfied: traitlets==5.1.0 in /usr/local/lib/python3.7/dist-packages (from -r /content/KIE_invoice_minimal/requirements.txt (line 114)) (5.1.0)\n",
            "Requirement already satisfied: typing-extensions==3.10.0.2 in /usr/local/lib/python3.7/dist-packages (from -r /content/KIE_invoice_minimal/requirements.txt (line 115)) (3.10.0.2)\n",
            "Requirement already satisfied: tzdata==2021.4 in /usr/local/lib/python3.7/dist-packages (from -r /content/KIE_invoice_minimal/requirements.txt (line 116)) (2021.4)\n",
            "Requirement already satisfied: tzlocal==4.0.1 in /usr/local/lib/python3.7/dist-packages (from -r /content/KIE_invoice_minimal/requirements.txt (line 117)) (4.0.1)\n",
            "Requirement already satisfied: urllib3==1.26.7 in /usr/local/lib/python3.7/dist-packages (from -r /content/KIE_invoice_minimal/requirements.txt (line 118)) (1.26.7)\n",
            "Requirement already satisfied: uvicorn==0.15.0 in /usr/local/lib/python3.7/dist-packages (from -r /content/KIE_invoice_minimal/requirements.txt (line 119)) (0.15.0)\n",
            "Requirement already satisfied: uvloop==0.16.0 in /usr/local/lib/python3.7/dist-packages (from -r /content/KIE_invoice_minimal/requirements.txt (line 120)) (0.16.0)\n",
            "Requirement already satisfied: validators==0.18.2 in /usr/local/lib/python3.7/dist-packages (from -r /content/KIE_invoice_minimal/requirements.txt (line 121)) (0.18.2)\n",
            "Requirement already satisfied: vietocr==0.3.6 in /usr/local/lib/python3.7/dist-packages (from -r /content/KIE_invoice_minimal/requirements.txt (line 122)) (0.3.6)\n",
            "Requirement already satisfied: watchdog==2.1.6 in /usr/local/lib/python3.7/dist-packages (from -r /content/KIE_invoice_minimal/requirements.txt (line 123)) (2.1.6)\n",
            "Requirement already satisfied: watchgod==0.7 in /usr/local/lib/python3.7/dist-packages (from -r /content/KIE_invoice_minimal/requirements.txt (line 124)) (0.7)\n",
            "Requirement already satisfied: wcwidth==0.2.5 in /usr/local/lib/python3.7/dist-packages (from -r /content/KIE_invoice_minimal/requirements.txt (line 125)) (0.2.5)\n",
            "Requirement already satisfied: webencodings==0.5.1 in /usr/local/lib/python3.7/dist-packages (from -r /content/KIE_invoice_minimal/requirements.txt (line 126)) (0.5.1)\n",
            "Requirement already satisfied: websockets==10.0 in /usr/local/lib/python3.7/dist-packages (from -r /content/KIE_invoice_minimal/requirements.txt (line 127)) (10.0)\n",
            "Requirement already satisfied: widgetsnbextension==3.5.1 in /usr/local/lib/python3.7/dist-packages (from -r /content/KIE_invoice_minimal/requirements.txt (line 128)) (3.5.1)\n",
            "Requirement already satisfied: yapf==0.31.0 in /usr/local/lib/python3.7/dist-packages (from -r /content/KIE_invoice_minimal/requirements.txt (line 129)) (0.31.0)\n",
            "Requirement already satisfied: typed-ast>=1.4.2 in /usr/local/lib/python3.7/dist-packages (from black==21.9b0->-r /content/KIE_invoice_minimal/requirements.txt (line 10)) (1.5.4)\n",
            "Requirement already satisfied: importlib-metadata<5 in /usr/local/lib/python3.7/dist-packages (from ipykernel==6.4.2->-r /content/KIE_invoice_minimal/requirements.txt (line 35)) (4.11.4)\n",
            "Requirement already satisfied: argcomplete>=1.12.3 in /usr/local/lib/python3.7/dist-packages (from ipykernel==6.4.2->-r /content/KIE_invoice_minimal/requirements.txt (line 35)) (2.0.0)\n",
            "Requirement already satisfied: setuptools>=18.5 in /usr/local/lib/python3.7/dist-packages (from ipython==7.28.0->-r /content/KIE_invoice_minimal/requirements.txt (line 36)) (57.4.0)\n",
            "Requirement already satisfied: zipp>=0.5 in /usr/local/lib/python3.7/dist-packages (from importlib-metadata<5->ipykernel==6.4.2->-r /content/KIE_invoice_minimal/requirements.txt (line 35)) (3.8.0)\n"
          ]
        }
      ]
    },
    {
      "cell_type": "code",
      "source": [
        "%cd KIE_invoice_minimal"
      ],
      "metadata": {
        "colab": {
          "base_uri": "https://localhost:8080/"
        },
        "id": "XwztWuH1gQ7y",
        "outputId": "4e9b204b-f197-48e2-d700-db7821ccb9ed"
      },
      "execution_count": null,
      "outputs": [
        {
          "output_type": "stream",
          "name": "stdout",
          "text": [
            "/content/KIE_invoice_minimal\n"
          ]
        }
      ]
    },
    {
      "cell_type": "code",
      "source": [
        "!pip install --upgrade gdown"
      ],
      "metadata": {
        "colab": {
          "base_uri": "https://localhost:8080/"
        },
        "id": "vA5zvvcPgT8L",
        "outputId": "2019f252-2e45-4508-8869-958c6c721d4e"
      },
      "execution_count": null,
      "outputs": [
        {
          "output_type": "stream",
          "name": "stdout",
          "text": [
            "Looking in indexes: https://pypi.org/simple, https://us-python.pkg.dev/colab-wheels/public/simple/\n",
            "Requirement already satisfied: gdown in /usr/local/lib/python3.7/dist-packages (3.11.0)\n",
            "Collecting gdown\n",
            "  Downloading gdown-4.4.0.tar.gz (14 kB)\n",
            "  Installing build dependencies ... \u001b[?25l\u001b[?25hdone\n",
            "  Getting requirements to build wheel ... \u001b[?25l\u001b[?25hdone\n",
            "    Preparing wheel metadata ... \u001b[?25l\u001b[?25hdone\n",
            "Requirement already satisfied: six in /usr/local/lib/python3.7/dist-packages (from gdown) (1.16.0)\n",
            "Requirement already satisfied: requests[socks] in /usr/local/lib/python3.7/dist-packages (from gdown) (2.26.0)\n",
            "Requirement already satisfied: beautifulsoup4 in /usr/local/lib/python3.7/dist-packages (from gdown) (4.6.3)\n",
            "Requirement already satisfied: tqdm in /usr/local/lib/python3.7/dist-packages (from gdown) (4.62.3)\n",
            "Requirement already satisfied: filelock in /usr/local/lib/python3.7/dist-packages (from gdown) (3.3.1)\n",
            "Requirement already satisfied: certifi>=2017.4.17 in /usr/local/lib/python3.7/dist-packages (from requests[socks]->gdown) (2021.10.8)\n",
            "Requirement already satisfied: idna<4,>=2.5 in /usr/local/lib/python3.7/dist-packages (from requests[socks]->gdown) (3.3)\n",
            "Requirement already satisfied: urllib3<1.27,>=1.21.1 in /usr/local/lib/python3.7/dist-packages (from requests[socks]->gdown) (1.26.7)\n",
            "Requirement already satisfied: charset-normalizer~=2.0.0 in /usr/local/lib/python3.7/dist-packages (from requests[socks]->gdown) (2.0.7)\n",
            "Requirement already satisfied: PySocks!=1.5.7,>=1.5.6 in /usr/local/lib/python3.7/dist-packages (from requests[socks]->gdown) (1.7.1)\n",
            "Building wheels for collected packages: gdown\n",
            "  Building wheel for gdown (PEP 517) ... \u001b[?25l\u001b[?25hdone\n",
            "  Created wheel for gdown: filename=gdown-4.4.0-py3-none-any.whl size=14774 sha256=67b5fb06222b073d4936404515c71a31e4d59e116db60677e63035d38f46fedf\n",
            "  Stored in directory: /root/.cache/pip/wheels/fb/c3/0e/c4d8ff8bfcb0461afff199471449f642179b74968c15b7a69c\n",
            "Successfully built gdown\n",
            "Installing collected packages: gdown\n",
            "  Attempting uninstall: gdown\n",
            "    Found existing installation: gdown 3.11.0\n",
            "    Uninstalling gdown-3.11.0:\n",
            "      Successfully uninstalled gdown-3.11.0\n",
            "\u001b[31mERROR: pip's dependency resolver does not currently take into account all the packages that are installed. This behaviour is the source of the following dependency conflicts.\n",
            "vietocr 0.3.6 requires gdown==3.11.0, but you have gdown 4.4.0 which is incompatible.\u001b[0m\n",
            "Successfully installed gdown-4.4.0\n"
          ]
        }
      ]
    },
    {
      "cell_type": "code",
      "source": [
        "import gdown\n",
        "from backend.backend_utils import timer"
      ],
      "metadata": {
        "id": "d8E5MOrvghlc"
      },
      "execution_count": null,
      "outputs": []
    },
    {
      "cell_type": "code",
      "source": [
        "data_path = '/content/drive/MyDrive/transferjson'"
      ],
      "metadata": {
        "id": "Y1-VLgoRhfvc"
      },
      "execution_count": null,
      "outputs": []
    },
    {
      "cell_type": "code",
      "source": [
        "class GraphNorm(nn.Module):\n",
        "    \"\"\"\n",
        "    Param: []\n",
        "    \"\"\"\n",
        "\n",
        "    def __init__(self, num_features, eps=1e-5):\n",
        "        super().__init__()\n",
        "        self.eps = eps\n",
        "        self.num_features = num_features\n",
        "        self.gamma = nn.Parameter(torch.ones(self.num_features))\n",
        "        self.beta = nn.Parameter(torch.zeros(self.num_features))\n",
        "\n",
        "    def norm(self, x):\n",
        "        mean = x.mean(dim=0, keepdim=True)\n",
        "        var = x.std(dim=0, keepdim=True)\n",
        "\n",
        "        x = (x - mean) / (var + self.eps)\n",
        "        return x\n",
        "\n",
        "    def forward(self, x, graph_size):\n",
        "        x_list = torch.split(x, graph_size)\n",
        "        norm_list = []\n",
        "        for x in x_list:\n",
        "            norm_list.append(self.norm(x))\n",
        "\n",
        "        x = torch.cat(norm_list, 0)\n",
        "        return self.gamma * x + self.beta\n"
      ],
      "metadata": {
        "id": "Vo7pAqErhujF"
      },
      "execution_count": null,
      "outputs": []
    },
    {
      "cell_type": "code",
      "source": [
        "import torch\n",
        "import torch.nn as nn\n",
        "import torch.nn.functional as F\n",
        "from torch.nn import LSTM\n",
        "from torch.nn.utils.rnn import pack_padded_sequence\n",
        "import configs as cf\n",
        "import numpy as np\n",
        "\n",
        "\n",
        "\n",
        "\"\"\"\n",
        "    ResGatedGCN: Residual Gated Graph ConvNets\n",
        "    An Experimental Study of Neural Networks for Variable Graphs (Xavier Bresson and Thomas Laurent, ICLR 2018)\n",
        "    https://arxiv.org/pdf/1711.07553v2.pdf\n",
        "\"\"\"\n",
        "\n",
        "\n",
        "class MLPReadout(nn.Module):\n",
        "    def __init__(self, input_dim, output_dim, L=2):  # L=nb_hidden_layers\n",
        "        super().__init__()\n",
        "        list_FC_layers = [\n",
        "            nn.Linear(input_dim // 2 ** l, input_dim // 2 ** (l + 1), bias=True)\n",
        "            for l in range(L)\n",
        "        ]\n",
        "        list_FC_layers.append(nn.Linear(input_dim // 2 ** L, output_dim, bias=True))\n",
        "        self.FC_layers = nn.ModuleList(list_FC_layers)\n",
        "        self.L = L\n",
        "\n",
        "    def forward(self, x):\n",
        "        y = x\n",
        "        for l in range(self.L):\n",
        "            y = self.FC_layers[l](y)\n",
        "            y = F.relu(y)\n",
        "        y = self.FC_layers[self.L](y)\n",
        "        return y\n",
        "\n",
        "\n",
        "class GatedGCNLayer(nn.Module):\n",
        "    \"\"\"\n",
        "    Param: []\n",
        "    \"\"\"\n",
        "\n",
        "    def __init__(\n",
        "        self, input_dim, output_dim, dropout, graph_norm, batch_norm, residual=False\n",
        "    ):\n",
        "        super().__init__()\n",
        "        self.in_channels = input_dim\n",
        "        self.out_channels = output_dim\n",
        "        self.dropout = dropout\n",
        "        self.graph_norm = graph_norm\n",
        "        self.batch_norm = batch_norm\n",
        "        self.residual = residual\n",
        "\n",
        "        if input_dim != output_dim:\n",
        "            self.residual = False\n",
        "\n",
        "        self.A = nn.Linear(input_dim, output_dim, bias=True)\n",
        "        self.B = nn.Linear(input_dim, output_dim, bias=True)\n",
        "        self.C = nn.Linear(input_dim, output_dim, bias=True)\n",
        "        self.D = nn.Linear(input_dim, output_dim, bias=True)\n",
        "        self.E = nn.Linear(input_dim, output_dim, bias=True)\n",
        "\n",
        "        self.bn_node_h = GraphNorm(output_dim)\n",
        "        self.bn_node_e = GraphNorm(output_dim)\n",
        "\n",
        "    def message_func(self, edges):\n",
        "        Bh_j = edges.src[\"Bh\"]\n",
        "        e_ij = (\n",
        "            edges.data[\"Ce\"] + edges.src[\"Dh\"] + edges.dst[\"Eh\"]\n",
        "        )  # e_ij = Ce_ij + Dhi + Ehj\n",
        "        edges.data[\"e\"] = e_ij\n",
        "        return {\"Bh_j\": Bh_j, \"e_ij\": e_ij}\n",
        "\n",
        "    def reduce_func(self, nodes):\n",
        "        Ah_i = nodes.data[\"Ah\"]\n",
        "        Bh_j = nodes.mailbox[\"Bh_j\"]\n",
        "        e = nodes.mailbox[\"e_ij\"]\n",
        "        sigma_ij = torch.sigmoid(e)  # sigma_ij = sigmoid(e_ij)\n",
        "        # h = Ah_i + torch.mean( sigma_ij * Bh_j, dim=1 ) # hi = Ahi + mean_j alpha_ij * Bhj\n",
        "        h = Ah_i + torch.sum(sigma_ij * Bh_j, dim=1) / (\n",
        "            torch.sum(sigma_ij, dim=1) + 1e-6\n",
        "        )  # hi = Ahi + sum_j eta_ij/sum_j' eta_ij' * Bhj <= dense attention\n",
        "        return {\"h\": h}\n",
        "\n",
        "    def forward(self, g, h, e, snorm_n, snorm_e, graph_node_size, graph_edge_size):\n",
        "\n",
        "        h_in = h  # for residual connection\n",
        "        e_in = e  # for residual connection\n",
        "\n",
        "        g.ndata[\"h\"] = h\n",
        "        g.ndata[\"Ah\"] = self.A(h)\n",
        "        g.ndata[\"Bh\"] = self.B(h)\n",
        "        g.ndata[\"Dh\"] = self.D(h)\n",
        "        g.ndata[\"Eh\"] = self.E(h)\n",
        "        g.edata[\"e\"] = e\n",
        "        g.edata[\"Ce\"] = self.C(e)\n",
        "        g.update_all(self.message_func, self.reduce_func)\n",
        "        h = g.ndata[\"h\"]  # result of graph convolution\n",
        "        e = g.edata[\"e\"]  # result of graph convolution\n",
        "\n",
        "        if self.graph_norm:\n",
        "            h = h * snorm_n  # normalize activation w.r.t. graph size\n",
        "            e = e * snorm_e  # normalize activation w.r.t. graph size\n",
        "\n",
        "        if self.batch_norm:\n",
        "            h = self.bn_node_h(h, graph_node_size)  # graph normalization\n",
        "            e = self.bn_node_e(e, graph_edge_size)  # graph normalization\n",
        "\n",
        "        h = F.relu(h)  # non-linear activation\n",
        "        e = F.relu(e)  # non-linear activation\n",
        "\n",
        "        if self.residual:\n",
        "            h = h_in + h  # residual connection\n",
        "            e = e_in + e  # residual connection\n",
        "\n",
        "        h = F.dropout(h, self.dropout, training=self.training)\n",
        "        e = F.dropout(e, self.dropout, training=self.training)\n",
        "\n",
        "        return h, e\n",
        "\n",
        "    def __repr__(self):\n",
        "        return \"{}(in_channels={}, out_channels={})\".format(\n",
        "            self.__class__.__name__, self.in_channels, self.out_channels\n",
        "        )\n",
        "\n",
        "\n",
        "class DenseLayer(nn.Module):\n",
        "    def __init__(self, in_dim, out_dim):\n",
        "        super().__init__()\n",
        "        # self.bn = nn.BatchNorm1d(in_dim)\n",
        "        self.bn = nn.LayerNorm(in_dim)\n",
        "        self.linear = nn.Linear(in_dim, out_dim)\n",
        "\n",
        "    def forward(self, feat):\n",
        "        feat = self.bn(feat)\n",
        "        feat = F.relu(feat)\n",
        "        feat = self.linear(feat)\n",
        "        return feat\n",
        "\n",
        "\n",
        "class GatedGCNNet(nn.Module):\n",
        "    def __init__(self, net_params):\n",
        "        super().__init__()\n",
        "        in_dim_text = net_params[\"in_dim_text\"]\n",
        "        in_dim_node = net_params[\"in_dim_node\"]  # node_dim (feat is an integer)\n",
        "        in_dim_edge = net_params[\"in_dim_edge\"]  # edge_dim (feat is a float)\n",
        "        hidden_dim = net_params[\"hidden_dim\"]\n",
        "        n_classes = net_params[\"n_classes\"]\n",
        "        dropout = net_params[\"dropout\"]\n",
        "        n_layers = net_params[\"L\"]\n",
        "        self.ohem = net_params[\"OHEM\"]\n",
        "\n",
        "        self.readout = net_params[\"readout\"]\n",
        "        self.graph_norm = net_params[\"graph_norm\"]\n",
        "        self.batch_norm = net_params[\"batch_norm\"]\n",
        "        self.residual = net_params[\"residual\"]\n",
        "        self.n_classes = n_classes\n",
        "        self.device = net_params[\"device\"]\n",
        "\n",
        "        self.embedding_text = nn.Embedding(\n",
        "            in_dim_text, hidden_dim\n",
        "        )  # node feat is an integer\n",
        "        self.embedding_h = nn.Linear(in_dim_node, hidden_dim)  # edge feat is a float\n",
        "        self.embedding_e = nn.Linear(in_dim_edge, hidden_dim)  # edge feat is a float\n",
        "        self.layers = nn.ModuleList(\n",
        "            [\n",
        "                GatedGCNLayer(\n",
        "                    hidden_dim,\n",
        "                    hidden_dim,\n",
        "                    dropout,\n",
        "                    self.graph_norm,\n",
        "                    self.batch_norm,\n",
        "                    self.residual,\n",
        "                )\n",
        "                for _ in range(n_layers)\n",
        "            ]\n",
        "        )\n",
        "        self.dense_layers = nn.ModuleList(\n",
        "            [\n",
        "                DenseLayer(hidden_dim + i * hidden_dim, hidden_dim)\n",
        "                for i in range(1, n_layers + 1)\n",
        "            ]\n",
        "        )\n",
        "\n",
        "        self.lstm = LSTM(\n",
        "            input_size=hidden_dim,\n",
        "            hidden_size=hidden_dim,\n",
        "            num_layers=1,\n",
        "            batch_first=True,\n",
        "            bidirectional=True,\n",
        "        )\n",
        "        self.MLP_layer = MLPReadout(hidden_dim, n_classes)\n",
        "        self.criterion = nn.CrossEntropyLoss(ignore_index=-100)\n",
        "\n",
        "    def lstm_text_embeding(self, text, text_length):\n",
        "        # FIXED\n",
        "        packed_sequence = pack_padded_sequence(\n",
        "            text, text_length.cpu(), batch_first=True, enforce_sorted=False\n",
        "        )\n",
        "\n",
        "        # packed_sequence = packed_sequence.to(\"cuda\")\n",
        "        outputs_packed, (h_last, c_last) = self.lstm(packed_sequence)\n",
        "        # outputs, _ = pad_packed_sequence(outputs_packed)\n",
        "        return h_last.mean(0)\n",
        "\n",
        "    def clamp(self):\n",
        "        min = torch.tensor(0.0).cuda()\n",
        "        with torch.no_grad():\n",
        "            for m in self.modules():\n",
        "                if isinstance(m, UnifiedNorm):\n",
        "                    m.lambda_batch.masked_fill_(m.lambda_batch < 0, min)\n",
        "                    m.lambda_graph.masked_fill_(m.lambda_graph < 0, min)\n",
        "                    m.lambda_adja.masked_fill_(m.lambda_adja < 0, min)\n",
        "                    m.lambda_node.masked_fill_(m.lambda_node < 0, min)\n",
        "\n",
        "    def concat(self, h_list, l):\n",
        "        h_concat = torch.cat(h_list, dim=1)\n",
        "        h = self.dense_layers[l](h_concat)\n",
        "        return h\n",
        "\n",
        "    def forward(\n",
        "        self,\n",
        "        g,\n",
        "        h,\n",
        "        e,\n",
        "        text,\n",
        "        text_length,\n",
        "        snorm_n,\n",
        "        snorm_e,\n",
        "        graph_node_size,\n",
        "        graph_edge_size,\n",
        "    ):\n",
        "        # input embedding\n",
        "        h_embeding = self.embedding_h(h)\n",
        "        e_embeding = self.embedding_e(e)\n",
        "\n",
        "        # FIXED\n",
        "        text_embeding = self.embedding_text(text.long())\n",
        "        print(text_length)\n",
        "        text_embeding = self.lstm_text_embeding(text_embeding, text_length)\n",
        "\n",
        "        text_embeding = F.normalize(text_embeding)\n",
        "\n",
        "        e = e_embeding\n",
        "        h = h_embeding + text_embeding\n",
        "        all_h = [h]\n",
        "        for i, conv in enumerate(self.layers):\n",
        "            h1, e = conv(g, h, e, snorm_n, snorm_e, graph_node_size, graph_edge_size)\n",
        "            all_h.append(h1)\n",
        "            h = self.concat(all_h, i)\n",
        "\n",
        "        # output\n",
        "        h_out = self.MLP_layer(h)\n",
        "\n",
        "        return h_out\n",
        "\n",
        "    def _ohem(self, pred, label):\n",
        "        # import pdb; pdb.set_trace()\n",
        "        pred = pred.data.cpu().numpy()\n",
        "        label = label.data.cpu().numpy()\n",
        "\n",
        "        pos_num = sum(label != 0)\n",
        "        neg_num = pos_num * self.ohem\n",
        "\n",
        "        pred_value = pred[:, 1:].max(1)\n",
        "\n",
        "        neg_score_sorted = np.sort(-pred_value[label == 0])\n",
        "\n",
        "        if neg_score_sorted.shape[0] > neg_num:\n",
        "            threshold = -neg_score_sorted[neg_num - 1]\n",
        "            mask = (pred_value >= threshold) | (label != 0)\n",
        "        else:\n",
        "            mask = label != -1\n",
        "        return torch.from_numpy(mask)\n",
        "\n",
        "    def loss(self, pred, label):\n",
        "\n",
        "        mask_label = label.clone()\n",
        "        mask = self._ohem(pred, label)\n",
        "        mask = mask.to(\"cuda\")\n",
        "        mask_label[mask == False] = -100\n",
        "        loss = self.criterion(pred, mask_label)\n",
        "\n",
        "        # calculating label weights for weighted loss computation\n",
        "        # V = label.size(0)\n",
        "        # label_count = torch.bincount(label)\n",
        "        # label_count = label_count[label_count.nonzero()].squeeze()\n",
        "        # cluster_sizes = torch.zeros(self.n_classes).long().to(self.device)\n",
        "        # cluster_sizes[torch.unique(label)] = label_count\n",
        "        # weight = (V - cluster_sizes).float() / V\n",
        "        # weight *= (cluster_sizes>0).float()\n",
        "\n",
        "        # # weighted cross-entropy for unbalanced classes\n",
        "        # criterion = nn.CrossEntropyLoss(weight=weight)\n",
        "        # loss = criterion(pred, label)\n",
        "\n",
        "        return loss\n",
        "\n",
        "\n",
        "if __name__ == \"__main__\":\n",
        "\n",
        "    net_params = {}\n",
        "    net_params[\"in_dim_text\"] = len(cf.alphabet)\n",
        "    net_params[\"in_dim_node\"] = 10\n",
        "    net_params[\"in_dim_edge\"] = 2\n",
        "    net_params[\"hidden_dim\"] = 512\n",
        "    net_params[\"out_dim\"] = 384\n",
        "    net_params[\"n_classes\"] = 5\n",
        "    net_params[\"in_feat_dropout\"] = 0.1\n",
        "    net_params[\"dropout\"] = 0.0\n",
        "    net_params[\"L\"] = 4\n",
        "    net_params[\"readout\"] = True\n",
        "    net_params[\"graph_norm\"] = True\n",
        "    net_params[\"batch_norm\"] = True\n",
        "    net_params[\"residual\"] = True\n",
        "    net_params[\"device\"] = \"cuda\"\n",
        "    net_params[\"OHEM\"] = 3\n",
        "    \n",
        "    model = GatedGCNNet(net_params)\n",
        "    optimizer = torch.optim.Adam(model.parameters(), lr=0.00075)\n",
        "    print(model)\n"
      ],
      "metadata": {
        "colab": {
          "base_uri": "https://localhost:8080/"
        },
        "id": "6FriTNaHhiwa",
        "outputId": "bab00d45-9c15-44fb-96a7-1922d96a4585"
      },
      "execution_count": null,
      "outputs": [
        {
          "output_type": "stream",
          "name": "stdout",
          "text": [
            "GatedGCNNet(\n",
            "  (embedding_text): Embedding(3791, 512)\n",
            "  (embedding_h): Linear(in_features=10, out_features=512, bias=True)\n",
            "  (embedding_e): Linear(in_features=2, out_features=512, bias=True)\n",
            "  (layers): ModuleList(\n",
            "    (0): GatedGCNLayer(in_channels=512, out_channels=512)\n",
            "    (1): GatedGCNLayer(in_channels=512, out_channels=512)\n",
            "    (2): GatedGCNLayer(in_channels=512, out_channels=512)\n",
            "    (3): GatedGCNLayer(in_channels=512, out_channels=512)\n",
            "  )\n",
            "  (dense_layers): ModuleList(\n",
            "    (0): DenseLayer(\n",
            "      (bn): LayerNorm((1024,), eps=1e-05, elementwise_affine=True)\n",
            "      (linear): Linear(in_features=1024, out_features=512, bias=True)\n",
            "    )\n",
            "    (1): DenseLayer(\n",
            "      (bn): LayerNorm((1536,), eps=1e-05, elementwise_affine=True)\n",
            "      (linear): Linear(in_features=1536, out_features=512, bias=True)\n",
            "    )\n",
            "    (2): DenseLayer(\n",
            "      (bn): LayerNorm((2048,), eps=1e-05, elementwise_affine=True)\n",
            "      (linear): Linear(in_features=2048, out_features=512, bias=True)\n",
            "    )\n",
            "    (3): DenseLayer(\n",
            "      (bn): LayerNorm((2560,), eps=1e-05, elementwise_affine=True)\n",
            "      (linear): Linear(in_features=2560, out_features=512, bias=True)\n",
            "    )\n",
            "  )\n",
            "  (lstm): LSTM(512, 512, batch_first=True, bidirectional=True)\n",
            "  (MLP_layer): MLPReadout(\n",
            "    (FC_layers): ModuleList(\n",
            "      (0): Linear(in_features=512, out_features=256, bias=True)\n",
            "      (1): Linear(in_features=256, out_features=128, bias=True)\n",
            "      (2): Linear(in_features=128, out_features=5, bias=True)\n",
            "    )\n",
            "  )\n",
            "  (criterion): CrossEntropyLoss()\n",
            ")\n"
          ]
        }
      ]
    },
    {
      "cell_type": "code",
      "source": [
        "model.train()"
      ],
      "metadata": {
        "colab": {
          "base_uri": "https://localhost:8080/"
        },
        "id": "uqxhxbvdh0qn",
        "outputId": "c41c2330-7d0d-424b-8819-d52cee2b7ca3"
      },
      "execution_count": null,
      "outputs": [
        {
          "output_type": "execute_result",
          "data": {
            "text/plain": [
              "GatedGCNNet(\n",
              "  (embedding_text): Embedding(3791, 512)\n",
              "  (embedding_h): Linear(in_features=10, out_features=512, bias=True)\n",
              "  (embedding_e): Linear(in_features=2, out_features=512, bias=True)\n",
              "  (layers): ModuleList(\n",
              "    (0): GatedGCNLayer(in_channels=512, out_channels=512)\n",
              "    (1): GatedGCNLayer(in_channels=512, out_channels=512)\n",
              "    (2): GatedGCNLayer(in_channels=512, out_channels=512)\n",
              "    (3): GatedGCNLayer(in_channels=512, out_channels=512)\n",
              "  )\n",
              "  (dense_layers): ModuleList(\n",
              "    (0): DenseLayer(\n",
              "      (bn): LayerNorm((1024,), eps=1e-05, elementwise_affine=True)\n",
              "      (linear): Linear(in_features=1024, out_features=512, bias=True)\n",
              "    )\n",
              "    (1): DenseLayer(\n",
              "      (bn): LayerNorm((1536,), eps=1e-05, elementwise_affine=True)\n",
              "      (linear): Linear(in_features=1536, out_features=512, bias=True)\n",
              "    )\n",
              "    (2): DenseLayer(\n",
              "      (bn): LayerNorm((2048,), eps=1e-05, elementwise_affine=True)\n",
              "      (linear): Linear(in_features=2048, out_features=512, bias=True)\n",
              "    )\n",
              "    (3): DenseLayer(\n",
              "      (bn): LayerNorm((2560,), eps=1e-05, elementwise_affine=True)\n",
              "      (linear): Linear(in_features=2560, out_features=512, bias=True)\n",
              "    )\n",
              "  )\n",
              "  (lstm): LSTM(512, 512, batch_first=True, bidirectional=True)\n",
              "  (MLP_layer): MLPReadout(\n",
              "    (FC_layers): ModuleList(\n",
              "      (0): Linear(in_features=512, out_features=256, bias=True)\n",
              "      (1): Linear(in_features=256, out_features=128, bias=True)\n",
              "      (2): Linear(in_features=128, out_features=5, bias=True)\n",
              "    )\n",
              "  )\n",
              "  (criterion): CrossEntropyLoss()\n",
              ")"
            ]
          },
          "metadata": {},
          "execution_count": 12
        }
      ]
    },
    {
      "cell_type": "code",
      "source": [
        "model = model.to(\"cuda\")"
      ],
      "metadata": {
        "id": "NBmnxqG4jLZc"
      },
      "execution_count": null,
      "outputs": []
    },
    {
      "cell_type": "code",
      "source": [
        "print(model)"
      ],
      "metadata": {
        "colab": {
          "base_uri": "https://localhost:8080/"
        },
        "id": "QKPYIMcBjdJr",
        "outputId": "0a660ad0-28a4-4847-bdf3-011d0b8eeb81"
      },
      "execution_count": null,
      "outputs": [
        {
          "output_type": "stream",
          "name": "stdout",
          "text": [
            "GatedGCNNet(\n",
            "  (embedding_text): Embedding(3791, 512)\n",
            "  (embedding_h): Linear(in_features=10, out_features=512, bias=True)\n",
            "  (embedding_e): Linear(in_features=2, out_features=512, bias=True)\n",
            "  (layers): ModuleList(\n",
            "    (0): GatedGCNLayer(in_channels=512, out_channels=512)\n",
            "    (1): GatedGCNLayer(in_channels=512, out_channels=512)\n",
            "    (2): GatedGCNLayer(in_channels=512, out_channels=512)\n",
            "    (3): GatedGCNLayer(in_channels=512, out_channels=512)\n",
            "  )\n",
            "  (dense_layers): ModuleList(\n",
            "    (0): DenseLayer(\n",
            "      (bn): LayerNorm((1024,), eps=1e-05, elementwise_affine=True)\n",
            "      (linear): Linear(in_features=1024, out_features=512, bias=True)\n",
            "    )\n",
            "    (1): DenseLayer(\n",
            "      (bn): LayerNorm((1536,), eps=1e-05, elementwise_affine=True)\n",
            "      (linear): Linear(in_features=1536, out_features=512, bias=True)\n",
            "    )\n",
            "    (2): DenseLayer(\n",
            "      (bn): LayerNorm((2048,), eps=1e-05, elementwise_affine=True)\n",
            "      (linear): Linear(in_features=2048, out_features=512, bias=True)\n",
            "    )\n",
            "    (3): DenseLayer(\n",
            "      (bn): LayerNorm((2560,), eps=1e-05, elementwise_affine=True)\n",
            "      (linear): Linear(in_features=2560, out_features=512, bias=True)\n",
            "    )\n",
            "  )\n",
            "  (lstm): LSTM(512, 512, batch_first=True, bidirectional=True)\n",
            "  (MLP_layer): MLPReadout(\n",
            "    (FC_layers): ModuleList(\n",
            "      (0): Linear(in_features=512, out_features=256, bias=True)\n",
            "      (1): Linear(in_features=256, out_features=128, bias=True)\n",
            "      (2): Linear(in_features=128, out_features=5, bias=True)\n",
            "    )\n",
            "  )\n",
            "  (criterion): CrossEntropyLoss()\n",
            ")\n"
          ]
        }
      ]
    },
    {
      "cell_type": "code",
      "source": [
        "def make_text_encode(text):\n",
        "    text_encode = []\n",
        "    for t in text.upper():\n",
        "        if t not in cf.alphabet:\n",
        "            text_encode.append(cf.alphabet.index(\" \"))\n",
        "        else:\n",
        "            text_encode.append(cf.alphabet.index(t))\n",
        "    return np.array(text_encode)\n",
        "\n",
        "\n",
        "def prepare_data(cells, text_key=\"vietocr_text\"):\n",
        "    texts = []\n",
        "    text_lengths = []\n",
        "    polys = []\n",
        "    for cell in cells:\n",
        "        text = cell[text_key]\n",
        "        text_encode = make_text_encode(text)\n",
        "        text_lengths.append(text_encode.shape[0])\n",
        "        texts.append(text_encode)\n",
        "\n",
        "        poly = copy.deepcopy(cell[\"poly\"])\n",
        "        poly.append(np.max(poly[0::2]) - np.min(poly[0::2]))\n",
        "        poly.append(np.max(poly[1::2]) - np.min(poly[1::2]))\n",
        "        poly = list(map(int, poly))\n",
        "        polys.append(poly)\n",
        "\n",
        "    texts = np.array(texts, dtype=object)\n",
        "    text_lengths = np.array(text_lengths)\n",
        "    polys = np.array(polys)\n",
        "    return texts, text_lengths, polys\n",
        "\n",
        "\n",
        "def prepare_pipeline(boxes, edge_data, text, text_length):\n",
        "    box_min = boxes.min(0)\n",
        "    box_max = boxes.max(0)\n",
        "\n",
        "    boxes = (boxes - box_min) / (box_max - box_min)\n",
        "    boxes = (boxes - 0.5) / 0.5\n",
        "\n",
        "    edge_min = edge_data.min(0)\n",
        "    edge_max = edge_data.max(0)\n",
        "\n",
        "    edge_data = (edge_data - edge_min) / (edge_max - edge_min)\n",
        "    edge_data = (edge_data - 0.5) / 0.5\n",
        "  \n",
        "    return boxes, edge_data, text, text_length\n",
        "\n",
        "\n",
        "\n",
        "def prepare_graph(cells):\n",
        "    texts, text_lengths, boxes = prepare_data(cells)\n",
        "\n",
        "    origin_boxes = boxes.copy()\n",
        "    node_nums = text_lengths.shape[0]\n",
        "\n",
        "    src = []\n",
        "    dst = []\n",
        "    edge_data = []\n",
        "    for i in range(node_nums):\n",
        "        for j in range(node_nums):\n",
        "            if i == j:\n",
        "                continue\n",
        "\n",
        "            edata = []\n",
        "            # y distance\n",
        "            y_distance = np.mean(boxes[i][:8][1::2]) - np.mean(boxes[j][:8][1::2])\n",
        "            # w = boxes[i, 8]\n",
        "            h = boxes[i, 9]\n",
        "            if np.abs(y_distance) > 3 * h:\n",
        "                continue\n",
        "\n",
        "            x_distance = np.mean(boxes[i][:8][0::2]) - np.mean(boxes[j][:8][0::2])\n",
        "            edata.append(y_distance)\n",
        "            edata.append(x_distance)\n",
        "\n",
        "            edge_data.append(edata)\n",
        "            src.append(i)\n",
        "            dst.append(j)\n",
        "\n",
        "    edge_data = np.array(edge_data)\n",
        "    g = dgl.DGLGraph()\n",
        "    g.add_nodes(node_nums)\n",
        "    g.add_edges(src, dst)\n",
        "\n",
        "    boxes, edge_data, text, text_length = prepare_pipeline(\n",
        "        boxes, edge_data, texts, text_lengths\n",
        "    )\n",
        "    boxes = torch.from_numpy(boxes).float()\n",
        "    edge_data = torch.from_numpy(edge_data).float()\n",
        "\n",
        "    tab_sizes_n = g.number_of_nodes()\n",
        "    tab_snorm_n = torch.FloatTensor(tab_sizes_n, 1).fill_(1.0 / float(tab_sizes_n))\n",
        "    snorm_n = tab_snorm_n.sqrt()\n",
        "\n",
        "    tab_sizes_e = g.number_of_edges()\n",
        "    tab_snorm_e = torch.FloatTensor(tab_sizes_e, 1).fill_(1.0 / float(tab_sizes_e))\n",
        "    snorm_e = tab_snorm_e.sqrt()\n",
        "\n",
        "    max_length = text_lengths.max()\n",
        "    new_text = [\n",
        "        np.expand_dims(np.pad(t, (0, max_length - t.shape[0]), \"constant\"), axis=0)\n",
        "        for t in text\n",
        "    ]\n",
        "    texts = np.concatenate(new_text)\n",
        "\n",
        "    texts = torch.from_numpy(np.array(texts))\n",
        "    text_length = torch.from_numpy(np.array(text_length))\n",
        "\n",
        "    graph_node_size = [g.number_of_nodes()]\n",
        "    graph_edge_size = [g.number_of_edges()]\n",
        "\n",
        "    return (\n",
        "        g,\n",
        "        boxes,\n",
        "        edge_data,\n",
        "        snorm_n,\n",
        "        snorm_e,\n",
        "        texts,\n",
        "        text_length,\n",
        "        origin_boxes,\n",
        "        graph_node_size,\n",
        "        graph_edge_size,\n",
        "    )\n"
      ],
      "metadata": {
        "id": "VraJ0CVTjiME"
      },
      "execution_count": null,
      "outputs": []
    },
    {
      "cell_type": "code",
      "source": [
        "import PIL"
      ],
      "metadata": {
        "id": "DL8vzZ8em5V6"
      },
      "execution_count": null,
      "outputs": []
    },
    {
      "cell_type": "code",
      "source": [
        "import json"
      ],
      "metadata": {
        "id": "T2Qy2XMonjUV"
      },
      "execution_count": null,
      "outputs": []
    },
    {
      "cell_type": "code",
      "source": [
        "a = open('/content/Labels.json')\n",
        "L = json.load(a)"
      ],
      "metadata": {
        "id": "SGCcHNNCogFp"
      },
      "execution_count": null,
      "outputs": []
    },
    {
      "cell_type": "code",
      "source": [
        "import os"
      ],
      "metadata": {
        "id": "NU8Z_2khqTsJ"
      },
      "execution_count": null,
      "outputs": []
    },
    {
      "cell_type": "code",
      "source": [
        "images_folder = ['1.jpg','2.jpg','3.jpg','4.jpg','5.jpg','6.jpg','7.jpg','8.jpg','9.jpg', '10.jpg']"
      ],
      "metadata": {
        "id": "g_xXJWV_yoOO"
      },
      "execution_count": null,
      "outputs": []
    },
    {
      "cell_type": "code",
      "source": [
        "imgs=[]\n",
        "for i in images_folder:\n",
        "  imgs.append(cv2.imread(data_path + '/Images/' + i))\n"
      ],
      "metadata": {
        "id": "wcY5Z_spqU3W"
      },
      "execution_count": null,
      "outputs": []
    },
    {
      "cell_type": "code",
      "source": [
        "imgs=np.array(imgs)"
      ],
      "metadata": {
        "id": "aUfxFvTHqoxc"
      },
      "execution_count": null,
      "outputs": []
    },
    {
      "cell_type": "code",
      "source": [
        "L.keys()"
      ],
      "metadata": {
        "colab": {
          "base_uri": "https://localhost:8080/"
        },
        "id": "wxd8kJFByaDj",
        "outputId": "191bc21a-fff9-45ad-fc8d-4af0515ab284"
      },
      "execution_count": null,
      "outputs": [
        {
          "output_type": "execute_result",
          "data": {
            "text/plain": [
              "dict_keys(['1', '2', '3', '4', '5', '6', '7', '8', '9', '10'])"
            ]
          },
          "metadata": {},
          "execution_count": 23
        }
      ]
    },
    {
      "cell_type": "code",
      "source": [
        "Labels = []\n",
        "for key in L.keys():\n",
        "  print(key)\n",
        "  Labels.append(L[key]['cells'])"
      ],
      "metadata": {
        "colab": {
          "base_uri": "https://localhost:8080/"
        },
        "id": "iFM75sRbrahP",
        "outputId": "cde1197d-fa60-4c74-d9fc-e25033c00895"
      },
      "execution_count": null,
      "outputs": [
        {
          "output_type": "stream",
          "name": "stdout",
          "text": [
            "1\n",
            "2\n",
            "3\n",
            "4\n",
            "5\n",
            "6\n",
            "7\n",
            "8\n",
            "9\n",
            "10\n"
          ]
        }
      ]
    },
    {
      "cell_type": "code",
      "source": [
        "import dgl"
      ],
      "metadata": {
        "id": "lg3QuSHaRjHt",
        "colab": {
          "base_uri": "https://localhost:8080/"
        },
        "outputId": "3b36bf07-eaf2-44a3-c7fc-f96f4a9fd18f"
      },
      "execution_count": null,
      "outputs": [
        {
          "output_type": "stream",
          "name": "stderr",
          "text": [
            "DGL backend not selected or invalid.  Assuming PyTorch for now.\n",
            "Using backend: pytorch\n"
          ]
        },
        {
          "output_type": "stream",
          "name": "stdout",
          "text": [
            "Setting the default backend to \"pytorch\". You can change it in the ~/.dgl/config.json file or export the DGLBACKEND environment variable.  Valid options are: pytorch, mxnet, tensorflow (all lowercase)\n"
          ]
        }
      ]
    },
    {
      "cell_type": "code",
      "source": [
        "len(Labels[0])"
      ],
      "metadata": {
        "colab": {
          "base_uri": "https://localhost:8080/"
        },
        "id": "GNzTnax7IFaj",
        "outputId": "e2b26134-3840-4543-8e0e-3209661981ed"
      },
      "execution_count": null,
      "outputs": [
        {
          "output_type": "execute_result",
          "data": {
            "text/plain": [
              "84"
            ]
          },
          "metadata": {},
          "execution_count": 26
        }
      ]
    },
    {
      "cell_type": "code",
      "source": [
        "score_ths=0.98\n",
        "device = \"cuda\"\n",
        "n_epochs = 19\n",
        "for epoch in range(1, n_epochs + 1):\n",
        "        loss_train = 0.0\n",
        "        for i in range(10):\n",
        "            (\n",
        "            batch_graphs,\n",
        "            batch_x,\n",
        "            batch_e,\n",
        "            batch_snorm_n,\n",
        "            batch_snorm_e,\n",
        "            text,\n",
        "            text_length,\n",
        "            boxes,\n",
        "            graph_node_size,\n",
        "            graph_edge_size,\n",
        "            ) = prepare_graph(Labels[i])\n",
        "\n",
        "            batch_graphs = batch_graphs.to(device)\n",
        "            batch_x = batch_x.to(device)\n",
        "            batch_e = batch_e.to(device)\n",
        "            text = text.to(device)\n",
        "            text_length = text_length.to(device)\n",
        "            batch_snorm_e = batch_snorm_e.to(device)\n",
        "            batch_snorm_n = batch_snorm_n.to(device)\n",
        "            batch_graphs = batch_graphs.to(device)\n",
        "\n",
        "            batch_scores = model.forward(\n",
        "            batch_graphs,\n",
        "            batch_x,\n",
        "            batch_e,\n",
        "            text,\n",
        "            text_length,\n",
        "            batch_snorm_n,\n",
        "            batch_snorm_e,\n",
        "            graph_node_size,\n",
        "            graph_edge_size,\n",
        "    )\n",
        "            \n",
        "            labels_key = []\n",
        "            for t in range (len(Labels[i])):\n",
        "              if Labels[i][t][\"cate_text\"] == \"OTHER\":\n",
        "                labels_key.append(0)\n",
        "              if Labels[i][t][\"cate_text\"] == \"ADDRESS\":\n",
        "                labels_key.append(1)\n",
        "              if Labels[i][t][\"cate_text\"] == \"STATUS\":\n",
        "                labels_key.append(2)\n",
        "              if Labels[i][t][\"cate_text\"] == \"NUMBER\":\n",
        "                labels_key.append(3)\n",
        "              if Labels[i][t][\"cate_text\"] == \"NAME\":\n",
        "                labels_key.append(4)\n",
        "            labels_key = torch.tensor(labels_key).to(\"cuda\")\n",
        "            \n",
        "            loss = model.loss(batch_scores, labels_key)\n",
        "          \n",
        "            loss_train += loss\n",
        "        loss_train /= 10\n",
        "        print(\"{}: {}\".format(epoch, loss_train))\n",
        "        optimizer.zero_grad()     \n",
        "        loss_train.backward() \n",
        "        optimizer.step()\n",
        "        "
      ],
      "metadata": {
        "colab": {
          "base_uri": "https://localhost:8080/"
        },
        "id": "VZs8vk5LN2Bb",
        "outputId": "bca98917-f7c4-48db-f94b-4ce7dd9094b2"
      },
      "execution_count": null,
      "outputs": [
        {
          "output_type": "stream",
          "name": "stderr",
          "text": [
            "/usr/local/lib/python3.7/dist-packages/dgl/base.py:45: DGLWarning: Recommend creating graphs by `dgl.graph(data)` instead of `dgl.DGLGraph(data)`.\n",
            "  return warnings.warn(message, category=category, stacklevel=1)\n"
          ]
        },
        {
          "output_type": "stream",
          "name": "stdout",
          "text": [
            "1: 1.5019820928573608\n",
            "2: 1.091110348701477\n",
            "3: 0.8703385591506958\n",
            "4: 0.7411569952964783\n",
            "5: 0.5751540064811707\n",
            "6: 0.5211777091026306\n",
            "7: 0.4624095559120178\n",
            "8: 0.3605923354625702\n",
            "9: 0.3187809884548187\n",
            "10: 0.2602454721927643\n",
            "11: 0.21209333837032318\n",
            "12: 0.16747455298900604\n",
            "13: 0.125735342502594\n",
            "14: 0.06969473510980606\n",
            "15: 0.03844205662608147\n",
            "16: 0.02322150580585003\n",
            "17: 0.012573055922985077\n",
            "18: 0.005203959997743368\n",
            "19: 0.0032408263068646193\n"
          ]
        }
      ]
    },
    {
      "cell_type": "code",
      "source": [
        "torch.save(model.state_dict(), \"/content/kie_mcocr.pkl\")"
      ],
      "metadata": {
        "id": "ISLHycbmGfiH"
      },
      "execution_count": null,
      "outputs": []
    },
    {
      "cell_type": "code",
      "source": [
        "a = open('/content/Labels_test.json')\n",
        "L = json.load(a)\n",
        "Labels_test = []\n",
        "for key in L.keys():\n",
        "  print(key)\n",
        "  Labels_test.append(L[key]['cells'])"
      ],
      "metadata": {
        "colab": {
          "base_uri": "https://localhost:8080/"
        },
        "id": "Hd_BkiI7pSmg",
        "outputId": "7b0dd17e-7fce-41c2-ed14-3f42a65326ca"
      },
      "execution_count": null,
      "outputs": [
        {
          "output_type": "stream",
          "name": "stdout",
          "text": [
            "1\n",
            "2\n",
            "3\n",
            "4\n",
            "5\n",
            "6\n",
            "7\n",
            "8\n",
            "9\n",
            "10\n"
          ]
        }
      ]
    },
    {
      "cell_type": "code",
      "source": [
        "(\n",
        "batch_graphs,\n",
        "batch_x,\n",
        "batch_e,\n",
        "batch_snorm_n,\n",
        "batch_snorm_e,\n",
        "text,\n",
        "text_length,\n",
        "boxes,\n",
        "graph_node_size,\n",
        "graph_edge_size,\n",
        ") = prepare_graph(Labels_test[2])\n",
        "\n",
        "batch_graphs = batch_graphs.to(device)\n",
        "batch_x = batch_x.to(device)\n",
        "batch_e = batch_e.to(device)\n",
        "text = text.to(device)\n",
        "text_length = text_length.to(device)\n",
        "batch_snorm_e = batch_snorm_e.to(device)\n",
        "batch_snorm_n = batch_snorm_n.to(device)\n",
        "batch_graphs = batch_graphs.to(device)\n",
        "\n",
        "batch_scores = model.forward(\n",
        "batch_graphs,\n",
        "batch_x,\n",
        "batch_e,\n",
        "text,\n",
        "text_length,\n",
        "batch_snorm_n,\n",
        "batch_snorm_e,\n",
        "graph_node_size,\n",
        "graph_edge_size,\n",
        ")"
      ],
      "metadata": {
        "colab": {
          "base_uri": "https://localhost:8080/",
          "height": 640
        },
        "id": "rR2Qr6fCkNBi",
        "outputId": "294d21f7-e5f0-45ff-9ddd-75498749c941"
      },
      "execution_count": null,
      "outputs": [
        {
          "output_type": "error",
          "ename": "RuntimeError",
          "evalue": "ignored",
          "traceback": [
            "\u001b[0;31m---------------------------------------------------------------------------\u001b[0m",
            "\u001b[0;31mRuntimeError\u001b[0m                              Traceback (most recent call last)",
            "\u001b[0;32m/tmp/ipykernel_411/1591027845.py\u001b[0m in \u001b[0;36m<module>\u001b[0;34m\u001b[0m\n\u001b[1;32m     30\u001b[0m \u001b[0mbatch_snorm_e\u001b[0m\u001b[0;34m,\u001b[0m\u001b[0;34m\u001b[0m\u001b[0;34m\u001b[0m\u001b[0m\n\u001b[1;32m     31\u001b[0m \u001b[0mgraph_node_size\u001b[0m\u001b[0;34m,\u001b[0m\u001b[0;34m\u001b[0m\u001b[0;34m\u001b[0m\u001b[0m\n\u001b[0;32m---> 32\u001b[0;31m \u001b[0mgraph_edge_size\u001b[0m\u001b[0;34m,\u001b[0m\u001b[0;34m\u001b[0m\u001b[0;34m\u001b[0m\u001b[0m\n\u001b[0m\u001b[1;32m     33\u001b[0m )\n",
            "\u001b[0;32m/tmp/ipykernel_411/1696936704.py\u001b[0m in \u001b[0;36mforward\u001b[0;34m(self, g, h, e, text, text_length, snorm_n, snorm_e, graph_node_size, graph_edge_size)\u001b[0m\n\u001b[1;32m    237\u001b[0m         \u001b[0;31m# FIXED\u001b[0m\u001b[0;34m\u001b[0m\u001b[0;34m\u001b[0m\u001b[0;34m\u001b[0m\u001b[0m\n\u001b[1;32m    238\u001b[0m         \u001b[0mtext_embeding\u001b[0m \u001b[0;34m=\u001b[0m \u001b[0mself\u001b[0m\u001b[0;34m.\u001b[0m\u001b[0membedding_text\u001b[0m\u001b[0;34m(\u001b[0m\u001b[0mtext\u001b[0m\u001b[0;34m.\u001b[0m\u001b[0mlong\u001b[0m\u001b[0;34m(\u001b[0m\u001b[0;34m)\u001b[0m\u001b[0;34m)\u001b[0m\u001b[0;34m\u001b[0m\u001b[0;34m\u001b[0m\u001b[0m\n\u001b[0;32m--> 239\u001b[0;31m         \u001b[0mtext_embeding\u001b[0m \u001b[0;34m=\u001b[0m \u001b[0mself\u001b[0m\u001b[0;34m.\u001b[0m\u001b[0mlstm_text_embeding\u001b[0m\u001b[0;34m(\u001b[0m\u001b[0mtext_embeding\u001b[0m\u001b[0;34m,\u001b[0m \u001b[0mtext_length\u001b[0m\u001b[0;34m)\u001b[0m\u001b[0;34m\u001b[0m\u001b[0;34m\u001b[0m\u001b[0m\n\u001b[0m\u001b[1;32m    240\u001b[0m \u001b[0;34m\u001b[0m\u001b[0m\n\u001b[1;32m    241\u001b[0m         \u001b[0mtext_embeding\u001b[0m \u001b[0;34m=\u001b[0m \u001b[0mF\u001b[0m\u001b[0;34m.\u001b[0m\u001b[0mnormalize\u001b[0m\u001b[0;34m(\u001b[0m\u001b[0mtext_embeding\u001b[0m\u001b[0;34m)\u001b[0m\u001b[0;34m\u001b[0m\u001b[0;34m\u001b[0m\u001b[0m\n",
            "\u001b[0;32m/tmp/ipykernel_411/1696936704.py\u001b[0m in \u001b[0;36mlstm_text_embeding\u001b[0;34m(self, text, text_length)\u001b[0m\n\u001b[1;32m    196\u001b[0m         \u001b[0;31m# FIXED\u001b[0m\u001b[0;34m\u001b[0m\u001b[0;34m\u001b[0m\u001b[0;34m\u001b[0m\u001b[0m\n\u001b[1;32m    197\u001b[0m         packed_sequence = pack_padded_sequence(\n\u001b[0;32m--> 198\u001b[0;31m             \u001b[0mtext\u001b[0m\u001b[0;34m,\u001b[0m \u001b[0mtext_length\u001b[0m\u001b[0;34m.\u001b[0m\u001b[0mcpu\u001b[0m\u001b[0;34m(\u001b[0m\u001b[0;34m)\u001b[0m\u001b[0;34m,\u001b[0m \u001b[0mbatch_first\u001b[0m\u001b[0;34m=\u001b[0m\u001b[0;32mTrue\u001b[0m\u001b[0;34m,\u001b[0m \u001b[0menforce_sorted\u001b[0m\u001b[0;34m=\u001b[0m\u001b[0;32mFalse\u001b[0m\u001b[0;34m\u001b[0m\u001b[0;34m\u001b[0m\u001b[0m\n\u001b[0m\u001b[1;32m    199\u001b[0m         )\n\u001b[1;32m    200\u001b[0m \u001b[0;34m\u001b[0m\u001b[0m\n",
            "\u001b[0;32m/usr/local/lib/python3.7/dist-packages/torch/nn/utils/rnn.py\u001b[0m in \u001b[0;36mpack_padded_sequence\u001b[0;34m(input, lengths, batch_first, enforce_sorted)\u001b[0m\n\u001b[1;32m    243\u001b[0m \u001b[0;34m\u001b[0m\u001b[0m\n\u001b[1;32m    244\u001b[0m     \u001b[0mdata\u001b[0m\u001b[0;34m,\u001b[0m \u001b[0mbatch_sizes\u001b[0m \u001b[0;34m=\u001b[0m\u001b[0;31m \u001b[0m\u001b[0;31m\\\u001b[0m\u001b[0;34m\u001b[0m\u001b[0;34m\u001b[0m\u001b[0m\n\u001b[0;32m--> 245\u001b[0;31m         \u001b[0m_VF\u001b[0m\u001b[0;34m.\u001b[0m\u001b[0m_pack_padded_sequence\u001b[0m\u001b[0;34m(\u001b[0m\u001b[0minput\u001b[0m\u001b[0;34m,\u001b[0m \u001b[0mlengths\u001b[0m\u001b[0;34m,\u001b[0m \u001b[0mbatch_first\u001b[0m\u001b[0;34m)\u001b[0m\u001b[0;34m\u001b[0m\u001b[0;34m\u001b[0m\u001b[0m\n\u001b[0m\u001b[1;32m    246\u001b[0m     \u001b[0;32mreturn\u001b[0m \u001b[0m_packed_sequence_init\u001b[0m\u001b[0;34m(\u001b[0m\u001b[0mdata\u001b[0m\u001b[0;34m,\u001b[0m \u001b[0mbatch_sizes\u001b[0m\u001b[0;34m,\u001b[0m \u001b[0msorted_indices\u001b[0m\u001b[0;34m,\u001b[0m \u001b[0;32mNone\u001b[0m\u001b[0;34m)\u001b[0m\u001b[0;34m\u001b[0m\u001b[0;34m\u001b[0m\u001b[0m\n\u001b[1;32m    247\u001b[0m \u001b[0;34m\u001b[0m\u001b[0m\n",
            "\u001b[0;31mRuntimeError\u001b[0m: Length of all samples has to be greater than 0, but found an element in 'lengths' that is <= 0"
          ]
        }
      ]
    },
    {
      "cell_type": "code",
      "source": [
        "def postprocess_scores(batch_scores, score_ths=0.98, get_max=False):\n",
        "    values, preds = [], []\n",
        "    batch_scores = batch_scores.cpu().softmax(1)\n",
        "    for score in batch_scores:\n",
        "        _score = score.detach().cpu().numpy()\n",
        "        values.append(_score.max())\n",
        "        pred_index = np.argmax(_score)\n",
        "        if get_max:\n",
        "            preds.append(pred_index)\n",
        "        else:\n",
        "            if pred_index != 0 and _score.max() >= score_ths:\n",
        "                preds.append(pred_index)\n",
        "            else:\n",
        "                preds.append(0)\n",
        "\n",
        "    preds = np.array(preds)\n",
        "    return values, preds"
      ],
      "metadata": {
        "id": "w8mCjpjamIGG"
      },
      "execution_count": null,
      "outputs": []
    },
    {
      "cell_type": "code",
      "source": [
        "values, preds = postprocess_scores(\n",
        "        batch_scores, score_ths=cf.score_ths, get_max=cf.get_max\n",
        "    )"
      ],
      "metadata": {
        "id": "7H2HaI1blJT4"
      },
      "execution_count": null,
      "outputs": []
    },
    {
      "cell_type": "code",
      "source": [
        "def postprocess_write_info(merged_cells, preds, text_key=\"vietocr_text\"):\n",
        "    # 1/2/3/4\n",
        "    # 'ADDRESS', 'SELLER', 'TIMESTAMP', 'TOTAL_COST'\n",
        "    kie_info = dict()\n",
        "    preds = np.array(preds)\n",
        "    for i in range(1, 5):\n",
        "        indexes = np.where(preds == i)[0]\n",
        "        if len(indexes) > 0:\n",
        "            text_output = \" \".join(merged_cells[index][text_key] for index in indexes)\n",
        "            kie_info[cf.node_labels[i].title()] = text_output\n",
        "    return kie_info"
      ],
      "metadata": {
        "id": "xtOQpIeimhtH"
      },
      "execution_count": null,
      "outputs": []
    },
    {
      "cell_type": "code",
      "source": [
        "kie_info = postprocess_write_info(Labels_test[0], preds)"
      ],
      "metadata": {
        "id": "pOg6IJD8mWtY"
      },
      "execution_count": null,
      "outputs": []
    },
    {
      "cell_type": "code",
      "source": [
        "def vis_kie_pred(img, preds, values, boxes, save_path):\n",
        "    vis_img = img.copy()\n",
        "    length = preds.shape[0]\n",
        "    for i in range(length):\n",
        "\n",
        "        pred_id = preds[i]\n",
        "        if pred_id != 0:\n",
        "            msg = \"{}-{}\".format(cf.node_labels[preds[i]], round(float(values[i]), 2))\n",
        "            color = (0, 0, 255)\n",
        "\n",
        "            info = boxes[i]\n",
        "            box = np.array(\n",
        "                [\n",
        "                    [int(info[0]), int(info[1])],\n",
        "                    [int(info[2]), int(info[3])],\n",
        "                    [int(info[4]), int(info[5])],\n",
        "                    [int(info[6]), int(info[7])],\n",
        "                ]\n",
        "            )\n",
        "            cv2.polylines(vis_img, [box], 1, (255, 0, 0))\n",
        "            cv2.putText(\n",
        "                vis_img,\n",
        "                msg,\n",
        "                (int(info[0]), int(info[1])),\n",
        "                cv2.FONT_HERSHEY_SIMPLEX,\n",
        "                0.5,\n",
        "                color,\n",
        "                1,\n",
        "                cv2.LINE_AA,\n",
        "            )\n",
        "\n",
        "    imageio.imwrite(save_path, vis_img)\n",
        "    return vis_img"
      ],
      "metadata": {
        "id": "F-ZiRKtrm0X8"
      },
      "execution_count": null,
      "outputs": []
    },
    {
      "cell_type": "code",
      "source": [
        "img = cv2.imread('/content/3.jpg')"
      ],
      "metadata": {
        "id": "WIulHFxKnLIc"
      },
      "execution_count": null,
      "outputs": []
    },
    {
      "cell_type": "code",
      "source": [
        "save_path = os.path.join('/content/results', \"{}.jpg\".format('3'))\n",
        "vis_img = vis_kie_pred(img, preds, values, boxes, save_path)"
      ],
      "metadata": {
        "id": "THMFBtNlmqpA"
      },
      "execution_count": null,
      "outputs": []
    },
    {
      "cell_type": "code",
      "source": [
        ""
      ],
      "metadata": {
        "id": "J0XfYN_gnbzF"
      },
      "execution_count": null,
      "outputs": []
    }
  ]
}